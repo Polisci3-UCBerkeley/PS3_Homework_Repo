{
 "cells": [
  {
   "cell_type": "markdown",
   "id": "1a740711",
   "metadata": {},
   "source": [
    "# Regression Homework\n",
    "In this homework we will review the process of generating an Ordinary Least Squares regression model. We will review the information that it can tell us about the relationship between variables."
   ]
  },
  {
   "cell_type": "markdown",
   "id": "bf6d4885",
   "metadata": {},
   "source": [
    "Next, we need to load in our election data. This table represents presidential election outcomes from 1880 to 2016. In each row, we have collected information about different features during that year, such as inflation or the presence of a war."
   ]
  },
  {
   "cell_type": "code",
   "execution_count": 2,
   "id": "4bb23b3a",
   "metadata": {},
   "outputs": [],
   "source": [
    "elections <- read.csv('FairFPSR3.csv')\n",
    "head(elections)"
   ]
  },
  {
   "cell_type": "markdown",
   "id": "b0b75f6e",
   "metadata": {},
   "source": [
    "Here is the **codebook** that tells you what each variable means.\n",
    "\n",
    "`inc_vote`: % of major party presidential vote won by incumbent party\n",
    "\n",
    "`year`: Year of the presidential election\n",
    "\n",
    "`inflation`: Inflation rate\n",
    "\n",
    "`goodnews`: Number of quarters in the first 15 quarters of admin in which econ growth>3.2%\n",
    "\n",
    "`growth`: % change in real GDP per capita"
   ]
  },
  {
   "cell_type": "markdown",
   "id": "f26fa003",
   "metadata": {},
   "source": [
    "If we want to see the relationship between vote share and a variable, such as economic growth, we use the <code>lm(data$y_variable ~ data$x_variable)</code> function. To see the result, we call <code>summary()</code>. Below, we produce the regression results for the relationship between incumbent vote share and inflation.  \n",
    "\n",
    "**NOTE:** The important values for you to consider are the number of observations, adjusted R-squared value and the coefficient, standard errors, t-statistics, and p-values associated with the different independent variables."
   ]
  },
  {
   "cell_type": "code",
   "execution_count": 4,
   "id": "5295ca9a",
   "metadata": {
    "scrolled": true
   },
   "outputs": [],
   "source": [
    "reg1 <- lm(elections$inc_vote ~ elections$inflation) \n",
    "summary(reg1)"
   ]
  },
  {
   "cell_type": "markdown",
   "id": "9d6b5ffe",
   "metadata": {
    "deletable": false,
    "editable": false
   },
   "source": [
    "<!-- BEGIN QUESTION -->\n",
    "\n",
    "### Question 1:\n",
    "In the output that is produced by the <code>summary()</code> function, there is a row labeled *elections$inflation*. How do we interpret the coefficient for the linear relationship between inflation and presidential vote share?\n",
    "\n",
    "<!--\n",
    "BEGIN QUESTION\n",
    "name: q1\n",
    "manual: true\n",
    "points: 1\n",
    "-->"
   ]
  },
  {
   "cell_type": "markdown",
   "id": "46d3ca45",
   "metadata": {},
   "source": [
    "_Type your answer here, replacing this text._"
   ]
  },
  {
   "cell_type": "markdown",
   "id": "b543a713",
   "metadata": {
    "deletable": false,
    "editable": false
   },
   "source": [
    "<!-- END QUESTION -->\n",
    "\n",
    "### Question 2:\n",
    "Now, let's produce the OLS regression results for incumbent vote share and economic growth and replace the \"...\" with the correct variables: \n",
    "\n",
    "<!--\n",
    "BEGIN QUESTION\n",
    "name: q2\n",
    "manual: false\n",
    "points: 1\n",
    "-->"
   ]
  },
  {
   "cell_type": "code",
   "execution_count": 5,
   "id": "50d7828c",
   "metadata": {},
   "outputs": [],
   "source": [
    "## YOUR ANSWER HERE\n",
    "vote_inflation_ols <- lm(elections$... ~ elections$...)\n",
    "summary(vote_inflation_ols)"
   ]
  },
  {
   "cell_type": "code",
   "execution_count": null,
   "id": "d26c39de",
   "metadata": {
    "deletable": false,
    "editable": false
   },
   "outputs": [],
   "source": [
    ". = ottr::check(\"tests/q2.R\")"
   ]
  },
  {
   "cell_type": "markdown",
   "id": "10b8e5a7",
   "metadata": {
    "deletable": false,
    "editable": false
   },
   "source": [
    "<!-- BEGIN QUESTION -->\n",
    "\n",
    "### Question 3:\n",
    "Using the *elections$growth* row, we can review the relationship between growth and presidential vote share. Is the relationship statistically significant?\n",
    "\n",
    "<!--\n",
    "BEGIN QUESTION\n",
    "name: q3\n",
    "manual: true\n",
    "points: 1\n",
    "-->"
   ]
  },
  {
   "cell_type": "markdown",
   "id": "e9040c05",
   "metadata": {},
   "source": [
    "_Type your answer here, replacing this text._"
   ]
  },
  {
   "cell_type": "markdown",
   "id": "a33565f1",
   "metadata": {},
   "source": [
    "<!-- END QUESTION -->\n",
    "\n",
    "\n",
    "\n",
    "To use multiple variables, we can modify how we interact with the original function like so: <code>lm(data$dependent_variable ~ data$independent_var_1 + data$independent_var_2 + ...)</code>. Below, we run the regression between the two independent variables economic growth and monetary inflation."
   ]
  },
  {
   "cell_type": "code",
   "execution_count": 7,
   "id": "4fbcd6bf",
   "metadata": {},
   "outputs": [],
   "source": [
    "vote_inflation_growth_ols <- lm(elections$inc_vote ~ elections$inflation + elections$growth)\n",
    "summary(vote_inflation_growth_ols)"
   ]
  },
  {
   "cell_type": "markdown",
   "id": "2dbb8fb3",
   "metadata": {
    "deletable": false,
    "editable": false
   },
   "source": [
    "<!-- BEGIN QUESTION -->\n",
    "\n",
    "### Questions 4:\n",
    "Compare the coefficient and p-values for the two independent variables compared to when we just ran bivariate regression using each of them individually. How do these values change?\n",
    "\n",
    "**Note:** Make sure you run the cell above to generate the multivariate regression. \n",
    "\n",
    "<!--\n",
    "BEGIN QUESTION\n",
    "name: q4\n",
    "manual: true\n",
    "points: 1\n",
    "-->"
   ]
  },
  {
   "cell_type": "markdown",
   "id": "2eef822b",
   "metadata": {},
   "source": [
    "_Type your answer here, replacing this text._"
   ]
  },
  {
   "cell_type": "markdown",
   "id": "a23da158",
   "metadata": {
    "deletable": false,
    "editable": false
   },
   "source": [
    "<!-- END QUESTION -->\n",
    "\n",
    "### Question 5:\n",
    "Now, run the multivariate regression for the relationship between voteshare and \"goodnews\" and \"growth\" and replace the   \"...\" with the correct columns: \n",
    "\n",
    "<!--\n",
    "BEGIN QUESTION\n",
    "name: q5\n",
    "manual: false\n",
    "points: 1\n",
    "-->"
   ]
  },
  {
   "cell_type": "code",
   "execution_count": 6,
   "id": "b37b2b71",
   "metadata": {},
   "outputs": [],
   "source": [
    "## YOUR ANSWER HERE\n",
    "vote_goodnews_war_ols <- lm(elections$... ~ elections$... + elections$...)\n",
    "summary(vote_goodnews_war_ols)"
   ]
  },
  {
   "cell_type": "code",
   "execution_count": null,
   "id": "0288f538",
   "metadata": {
    "deletable": false,
    "editable": false
   },
   "outputs": [],
   "source": [
    ". = ottr::check(\"tests/q5.R\")"
   ]
  },
  {
   "cell_type": "markdown",
   "id": "5e62fef7",
   "metadata": {
    "deletable": false,
    "editable": false
   },
   "source": [
    "<!-- BEGIN QUESTION -->\n",
    "\n",
    "### Question 6:\n",
    "**Coeffecient Review:**\n",
    "\n",
    "(a) Using the coefficients for the intercept, goodnews, and growth variables, holding growth at its mean, how many months of good economic news is necessary for the incumbent to win?\n",
    "**Hint:** The mean of economic growth is 0.7635\n",
    "\n",
    "<!--\n",
    "BEGIN QUESTION\n",
    "name: q6a\n",
    "manual: true\n",
    "points: 1\n",
    "-->"
   ]
  },
  {
   "cell_type": "markdown",
   "id": "c3b29f66",
   "metadata": {},
   "source": [
    "_Type your answer here, replacing this text._"
   ]
  },
  {
   "cell_type": "markdown",
   "id": "d2313fa9",
   "metadata": {
    "deletable": false,
    "editable": false
   },
   "source": [
    "<!-- END QUESTION -->\n",
    "\n",
    "<!-- BEGIN QUESTION -->\n",
    "\n",
    "(b) Is goodnews statistically significant at the .05 level? What about at .01? What does this imply about positive economic news and incumbent voteshare?\n",
    "\n",
    "**Hint:** Use a two tailed t test.\n",
    "\n",
    "<!--\n",
    "BEGIN QUESTION\n",
    "name: q6b\n",
    "manual: true\n",
    "points: 1\n",
    "-->"
   ]
  },
  {
   "cell_type": "markdown",
   "id": "53401ed4",
   "metadata": {},
   "source": [
    "_Type your answer here, replacing this text._"
   ]
  },
  {
   "cell_type": "markdown",
   "id": "0e8bd4e9",
   "metadata": {},
   "source": [
    "<!-- END QUESTION -->\n",
    "\n",
    "\n",
    "\n",
    "### Question 7:\n",
    "Let's practice generating confidence intervals. As we have seen in past lectures, the 95% confidence interval is calculated with $\\beta \\pm t_{critical} * se(\\beta)$. Let's find the 95% confidence interval for the GOODNEWS coefficient."
   ]
  },
  {
   "cell_type": "markdown",
   "id": "8aa6bc03",
   "metadata": {
    "deletable": false,
    "editable": false
   },
   "source": [
    "(a) Using the number of observations in the summary and the t-table in the back of your textbook, find the critical value of t, and store it in the variable below.\n",
    "\n",
    "<!--\n",
    "BEGIN QUESTION\n",
    "name: q7a\n",
    "manual: false\n",
    "points: 1\n",
    "-->"
   ]
  },
  {
   "cell_type": "code",
   "execution_count": 8,
   "id": "76fdf331",
   "metadata": {},
   "outputs": [],
   "source": [
    "t_critical <- ...\n",
    "t_critical"
   ]
  },
  {
   "cell_type": "code",
   "execution_count": null,
   "id": "f04fb401",
   "metadata": {
    "deletable": false,
    "editable": false
   },
   "outputs": [],
   "source": [
    ". = ottr::check(\"tests/q7a.R\")"
   ]
  },
  {
   "cell_type": "markdown",
   "id": "a7587df0",
   "metadata": {
    "deletable": false,
    "editable": false
   },
   "source": [
    "(b) Next, use the summary output to store the standard error for the goodnews coefficient.\n",
    "\n",
    "<!--\n",
    "BEGIN QUESTION\n",
    "name: q7b\n",
    "manual: false\n",
    "points: 1\n",
    "-->"
   ]
  },
  {
   "cell_type": "code",
   "execution_count": 10,
   "id": "9c55eb0e",
   "metadata": {},
   "outputs": [],
   "source": [
    "goodnews_se <- ...\n",
    "goodnews_se"
   ]
  },
  {
   "cell_type": "code",
   "execution_count": null,
   "id": "a8d3ad25",
   "metadata": {
    "deletable": false,
    "editable": false
   },
   "outputs": [],
   "source": [
    ". = ottr::check(\"tests/q7b.R\")"
   ]
  },
  {
   "cell_type": "markdown",
   "id": "c847e0a3",
   "metadata": {
    "deletable": false,
    "editable": false
   },
   "source": [
    "(c) Using the standard error, calculate the 95% confidence interval. In the cell below, fill out the values for the lower and upper bound of the interval. \n",
    "\n",
    "<!--\n",
    "BEGIN QUESTION\n",
    "name: q7c\n",
    "manual: false\n",
    "points: 1\n",
    "-->"
   ]
  },
  {
   "cell_type": "code",
   "execution_count": 12,
   "id": "9535abc1",
   "metadata": {},
   "outputs": [],
   "source": [
    "## YOUR ANSWER HERE\n",
    "goodnews_lower <-  ... - ...*goodnews_se\n",
    "goodnews_upper <- ... + ...*goodnews_se\n",
    "q7c.answer <-c(goodnews_lower, goodnews_upper)\n",
    "q7c.answer"
   ]
  },
  {
   "cell_type": "code",
   "execution_count": null,
   "id": "4221b3dd",
   "metadata": {
    "deletable": false,
    "editable": false
   },
   "outputs": [],
   "source": [
    ". = ottr::check(\"tests/q7c.R\")"
   ]
  },
  {
   "cell_type": "markdown",
   "id": "1e015208",
   "metadata": {
    "deletable": false,
    "editable": false
   },
   "source": [
    "<!-- BEGIN QUESTION -->\n",
    "\n",
    "(d) Interpret this confidence interval: what can we say about the effect of good news on incumbent vote share?\n",
    "\n",
    "<!--\n",
    "BEGIN QUESTION\n",
    "name: q7d\n",
    "manual: true\n",
    "points: 1\n",
    "-->"
   ]
  },
  {
   "cell_type": "markdown",
   "id": "b0600e8d",
   "metadata": {},
   "source": [
    "_Type your answer here, replacing this text._"
   ]
  },
  {
   "cell_type": "markdown",
   "id": "1325bdd5",
   "metadata": {},
   "source": [
    "<!-- END QUESTION -->\n",
    "\n",
    "\n",
    "\n",
    "## OLS Review: Population and Sample Models:\n",
    "\n",
    "### Question 8\n",
    "In the following questions, the models in focus are bivariate, using the population model ${Y_i} = \\alpha + \\beta X_i+u_i$ and sample model ${Y_i} = \\hat{\\alpha} + \\hat{\\beta}X_i+\\hat{u_i}$  \n"
   ]
  },
  {
   "cell_type": "markdown",
   "id": "eb1f5e91",
   "metadata": {},
   "source": [
    "(a) Which of the following statements are accurate about the population regression model?"
   ]
  },
  {
   "cell_type": "markdown",
   "id": "75b24525",
   "metadata": {
    "deletable": false,
    "editable": false
   },
   "source": [
    "a) ${u}_i$ is the stochastic component of $Y_i$  \n",
    "b) $\\hat{\\alpha_i} + \\hat{\\beta} X_i$ is the systematic component of $Y_i$  \n",
    "c) Both (a) and (b) are correct  \n",
    "d) Neither (a) nor (b) are correct\n",
    "\n",
    "<!--\n",
    "BEGIN QUESTION\n",
    "name: q8a\n",
    "manual: false\n",
    "points: 2\n",
    "-->"
   ]
  },
  {
   "cell_type": "code",
   "execution_count": 14,
   "id": "3faa9431",
   "metadata": {},
   "outputs": [],
   "source": [
    "q8a.answer <- ..."
   ]
  },
  {
   "cell_type": "code",
   "execution_count": null,
   "id": "c530a88f",
   "metadata": {
    "deletable": false,
    "editable": false
   },
   "outputs": [],
   "source": [
    ". = ottr::check(\"tests/q8a.R\")"
   ]
  },
  {
   "cell_type": "markdown",
   "id": "bb92fe1f",
   "metadata": {},
   "source": [
    "(b) Which of the following statements are accurate about the population regression model?"
   ]
  },
  {
   "cell_type": "markdown",
   "id": "200d1bc2",
   "metadata": {
    "deletable": false,
    "editable": false
   },
   "source": [
    "a) $\\hat{u}_i$ is an estimate of $u_i$  \n",
    "b) $X_i$ is assumed to be measured without error  \n",
    "c) Both (a) and (b) are correct  \n",
    "d) Neither (a) nor (b) are correct\n",
    "\n",
    "<!--\n",
    "BEGIN QUESTION\n",
    "name: q8b\n",
    "manual: false\n",
    "points: 2\n",
    "-->"
   ]
  },
  {
   "cell_type": "code",
   "execution_count": 16,
   "id": "d8132e38",
   "metadata": {},
   "outputs": [],
   "source": [
    "q8b.answer <- ..."
   ]
  },
  {
   "cell_type": "code",
   "execution_count": null,
   "id": "e161bbfd",
   "metadata": {
    "deletable": false,
    "editable": false
   },
   "outputs": [],
   "source": [
    ". = ottr::check(\"tests/q8b.R\")"
   ]
  },
  {
   "cell_type": "markdown",
   "id": "19f2568a",
   "metadata": {},
   "source": [
    "(c) Which of the statements are accurate?"
   ]
  },
  {
   "cell_type": "markdown",
   "id": "5008650d",
   "metadata": {
    "deletable": false,
    "editable": false
   },
   "source": [
    "a) By specifying a bivariate regression model we are assuming that the impact of a one unit increase in $X_i$ will always be $\\beta$.  \n",
    "b) By specifying a bivariate regression model we are assuming that there are no other variables that cause $Y_i$.  \n",
    "c) Both (a) and (b) are correct    \n",
    "d) Neither (a) nor (b) are correct \n",
    "\n",
    "<!--\n",
    "BEGIN QUESTION\n",
    "name: q8c\n",
    "manual: false\n",
    "points: 2\n",
    "-->"
   ]
  },
  {
   "cell_type": "code",
   "execution_count": 18,
   "id": "ae982ddd",
   "metadata": {},
   "outputs": [],
   "source": [
    "q8c.answer <- ..."
   ]
  },
  {
   "cell_type": "code",
   "execution_count": null,
   "id": "590b8253",
   "metadata": {
    "deletable": false,
    "editable": false
   },
   "outputs": [],
   "source": [
    ". = ottr::check(\"tests/q8c.R\")"
   ]
  },
  {
   "cell_type": "markdown",
   "id": "ac414b9b",
   "metadata": {},
   "source": [
    "<!-- END QUESTION -->\n",
    "\n",
    "\n",
    "\n",
    "-----\n",
    "## Submitting Your Notebook\n",
    "\n",
    "Congratulations! You have now finished your final coding assignment. Well done!\n",
    "\n",
    "Before you head off to celebrate your work, please remember to save your work and submit it before the deadline!\n",
    "\n",
    "To submit your notebook...\n",
    "\n",
    "## Saving Your Notebook\n",
    "Now that you've finished the homework, we need to save it! To do this, click <code>File</code> $\\rightarrow$ <code>Download as</code> $\\rightarrow$ <code>Notebook(.ipynb)</code>"
   ]
  },
  {
   "cell_type": "markdown",
   "id": "a80d1aaf",
   "metadata": {},
   "source": [
    "Submit the .ipynb file you just downloaded <a href=\"https://www.gradescope.com/courses/402785\" target=\"_blank\">on Gradescope here</a>."
   ]
  },
  {
   "cell_type": "code",
   "execution_count": null,
   "id": "2b980f40",
   "metadata": {},
   "outputs": [],
   "source": []
  }
 ],
 "metadata": {
  "kernelspec": {
   "display_name": "R",
   "language": "R",
   "name": "ir"
  },
  "language_info": {
   "codemirror_mode": "r",
   "file_extension": ".r",
   "mimetype": "text/x-r-source",
   "name": "R",
   "pygments_lexer": "r",
   "version": "4.1.2"
  }
 },
 "nbformat": 4,
 "nbformat_minor": 5
}
